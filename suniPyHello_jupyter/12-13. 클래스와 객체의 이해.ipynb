{
 "cells": [
  {
   "cell_type": "markdown",
   "metadata": {},
   "source": [
    "### 학습목표\n",
    " 1. 클래스와 오브젝트에 대한 이해"
   ]
  },
  {
   "cell_type": "markdown",
   "metadata": {},
   "source": [
    "#### **class란?**\n",
    " + 실세계의 것을 모델링하여 속성(attribute)와 동작(method)를 갖는 데이터 타입\n",
    " + python에서의 string, int, list, dict.. 모두가 다 클래스로 존재\n",
    " + 예를들어 학생이라는 클래스를 만든다면, 학생을 나타내는 속성과 학생이 행하는 행동을 함께 정의 할 수 있음\n",
    " + 따라서, 다루고자 하는 데이터(변수) 와 데이터를 다루는 연산(함수)를 하나로 캡슐화(encapsulation)하여 클래스로 표현\n",
    " + 모델링에서 중요시 하는 속성에 따라 클래스의 속성과 행동이 각각 달라짐"
   ]
  },
  {
   "cell_type": "code",
   "execution_count": 3,
   "metadata": {
    "pycharm": {
     "is_executing": false
    }
   },
   "outputs": [
    {
     "name": "stdout",
     "text": [
      "[1, 2, 3, 4, 5, 6]\n"
     ],
     "output_type": "stream"
    }
   ],
   "source": [
    "a = [1,2,3,4,5]\n",
    "a.append(6)\n",
    "print(a)"
   ]
  },
  {
   "cell_type": "markdown",
   "metadata": {},
   "source": [
    "#### **object 란?**\n",
    " - 클래스로 생성되어 구체화된 객체(인스턴스)\n",
    " - 파이썬의 모든 것(int, str, list..etc)은 객체(인스턴스)\n",
    " - 실제로 class가 인스턴스화 되어 메모리에 상주하는 상태를 의미\n",
    " - class가 빵틀이라면, object는 실제로 빵틀로 찍어낸 빵이라고 비유 가능\n"
   ]
  },
  {
   "cell_type": "code",
   "execution_count": null,
   "metadata": {},
   "outputs": [],
   "source": []
  },
  {
   "cell_type": "markdown",
   "metadata": {},
   "source": [
    "#### **class 선언하기**\n",
    "  - 객체를 생성하기 위해선 객체의 모체가 되는 class를 미리 선언해야 함 "
   ]
  },
  {
   "cell_type": "code",
   "execution_count": 8,
   "metadata": {
    "pycharm": {
     "is_executing": false
    }
   },
   "outputs": [
    {
     "name": "stdout",
     "text": [
      "<class '__main__.Person'> <class '__main__.Person'>\n"
     ],
     "output_type": "stream"
    }
   ],
   "source": [
    "def test():\n",
    "    pass\n",
    "class Person:\n",
    "    pass\n",
    "\n",
    "bob = Person()\n",
    "cathy = Person()\n",
    "print(type(bob), type(cathy) )\n",
    "   "
   ]
  },
  {
   "cell_type": "markdown",
   "metadata": {},
   "source": [
    "#### __init__(self)\n",
    " + 생성자, 클래스 인스턴스가 생성될 때 호출됨\n",
    " + self인자는 항상 첫번째에 오며 자기 자신을 가리킴\n",
    " + 이름이 꼭 self일 필요는 없지만, 관례적으로 self로 사용\n",
    " \n",
    " + 생성자에서는 해당 클래스가 다루는 데이터를 정의\n",
    "   - 이 데이터를 멤버 변수(member variable) 또는 속성(attribute)라고 함"
   ]
  },
  {
   "cell_type": "code",
   "execution_count": 25,
   "metadata": {
    "pycharm": {
     "is_executing": false
    }
   },
   "outputs": [
    {
     "name": "stdout",
     "text": [
      "INIT: <__main__.Person object at 0x7ff8d0eb7250>\n",
      "INIT: <__main__.Person object at 0x7ff8d0eb7d90>\n",
      "NotYet 0\n",
      "JOE 50\n",
      "JOELEE 22\n"
     ],
     "output_type": "stream"
    }
   ],
   "source": [
    "class Person():\n",
    "    def __init__(self):\n",
    "        print(\"INIT:\", self)\n",
    "        self.name = 'NotYet'\n",
    "        self.age = 0\n",
    "\n",
    "p1 = Person()\n",
    "p2 = Person()\n",
    "\n",
    "print(p1.name, p1.age)\n",
    "p1.name = 'JOE'\n",
    "p1.age = '50'\n",
    "print(p1.name, p1.age)"
   ]
  },
  {
   "cell_type": "code",
   "execution_count": 26,
   "outputs": [
    {
     "name": "stdout",
     "text": [
      "JOELEE 22\n"
     ],
     "output_type": "stream"
    }
   ],
   "source": [
    "class Person():\n",
    "    def __init__(self, nn, aa):\n",
    "#        print(\"INIT:\", self, nn, aa)\n",
    "        self.name = nn\n",
    "        self.age = aa\n",
    "\n",
    "p1 = Person('JOELEE',22)\n",
    "print(p1.name, p1.age)"
   ],
   "metadata": {
    "collapsed": false,
    "pycharm": {
     "name": "#%%\n",
     "is_executing": false
    }
   }
  },
  {
   "cell_type": "code",
   "execution_count": 30,
   "outputs": [
    {
     "name": "stdout",
     "text": [
      "<__main__.Person object at 0x7ff8f0d85610>\n",
      "<__main__.Person object at 0x7ff8f0d85e10>\n",
      "Joe is sleeped...\n",
      "Lee is sleeped...\n"
     ],
     "output_type": "stream"
    }
   ],
   "source": [
    "# SELF is Object's itself reference point on address\n",
    "class Person():\n",
    "    def __init__(self, nn, aa):\n",
    "        self.name = nn\n",
    "        self.age = aa\n",
    "        \n",
    "    def sleep(self):\n",
    "        print(self.name, 'is sleeped...')\n",
    "\n",
    "a = Person('Joe', 20)\n",
    "b = Person('Lee', 30)\n",
    "\n",
    "print(a)\n",
    "print(b)\n",
    "\n",
    "a.sleep()\n",
    "b.sleep()\n"
   ],
   "metadata": {
    "collapsed": false,
    "pycharm": {
     "name": "#%%\n",
     "is_executing": false
    }
   }
  },
  {
   "cell_type": "markdown",
   "metadata": {},
   "source": [
    "#### **mehtod 정의**\n",
    " + 멤버함수라고도 하며, 해당 클래스의 object에서만 호출가능\n",
    " + 메쏘드는 객체 레벨에서 호출되며, 해당 객체의 속성에 대한 연산을 행함\n",
    " + {obj}.{method}() 형태로 호출됨"
   ]
  },
  {
   "cell_type": "code",
   "execution_count": 41,
   "metadata": {
    "pycharm": {
     "is_executing": false
    }
   },
   "outputs": [
    {
     "name": "stdout",
     "text": [
      "Current Counter:  10\n",
      "Current Counter:  11\n",
      "Current Counter:  0\n",
      "Current Counter:  2\n"
     ],
     "output_type": "stream"
    }
   ],
   "source": [
    "class Counter():\n",
    "    def __init__(self, basenum):\n",
    "        self.num = basenum\n",
    "        \n",
    "    def printCurrent(self):\n",
    "        print('Current Counter: ', self.num)\n",
    "        \n",
    "    def reset(self):\n",
    "        self.num = 0\n",
    "        \n",
    "    def increment(self):\n",
    "        self.num += 1\n",
    "    \n",
    "c1 = Counter(10)\n",
    "c1.num\n",
    "c1.printCurrent()\n",
    "\n",
    "c1.increment()\n",
    "c1.printCurrent()\n",
    "\n",
    "c1.reset()\n",
    "c1.printCurrent()\n",
    "\n",
    "c1.increment()\n",
    "c1.increment()\n",
    "c1.printCurrent()"
   ]
  },
  {
   "cell_type": "code",
   "execution_count": 49,
   "outputs": [
    {
     "name": "stdout",
     "text": [
      "30\n",
      "200\n",
      "21\n"
     ],
     "output_type": "stream"
    }
   ],
   "source": [
    "class Math():\n",
    "    @staticmethod\n",
    "    def add(self, a,b,c):\n",
    "        return a + b + c\n",
    "    def add(self, a,b):\n",
    "        return a + b\n",
    "    def multiply(self, a, b):\n",
    "        return a * b\n",
    "    \n",
    "m = Math()\n",
    "print(m.add(10,20))\n",
    "print(m.multiply(10,20))\n",
    "print(Math.add(10,20,1))\n"
   ],
   "metadata": {
    "collapsed": false,
    "pycharm": {
     "name": "#%%\n",
     "is_executing": false
    }
   }
  },
  {
   "cell_type": "markdown",
   "metadata": {},
   "source": [
    " #### **Class Inheritance (상속)**\n",
    "  - 기존에 정의해둔 클래스의 기능을 그대로 물려받을 수 있다.\n",
    "  - 기존 클래스에 기능 일부를 추가하거나, 변경하여 새로운 클래스를 정의한다.\n",
    "  - 코드를 재사용할 수 있게된다.\n",
    "  - 상속 받고자 하는 대상인 기존 클래스는 (Parent, Super, Base class 라고 부른다.)\n",
    "  - 상속 받는 새로운 클래스는(Child, Sub, Derived class 라고 부른다.)\n",
    "  - 의미적으로 is-a관계를 갖는다"
   ]
  },
  {
   "cell_type": "code",
   "execution_count": 5,
   "metadata": {
    "pycharm": {
     "is_executing": false
    }
   },
   "outputs": [
    {
     "name": "stdout",
     "text": [
      "BobBob125, eat BBQ...now\n",
      "BobBob125, sleep 30 minutes on bed\n",
      "BobBob125, work 60 minutes ahrdly\n"
     ],
     "output_type": "stream"
    }
   ],
   "source": [
    "class Person:\n",
    "    def __init__(self, name, age):\n",
    "        self.name = name\n",
    "        self.age = age\n",
    "        \n",
    "    def eat(self, food):\n",
    "        print('{}, eat {}...now'.format(self.name, food))\n",
    "    \n",
    "    def sleep(self, min):\n",
    "        print('{}, sleep {} minutes on bed'.format(self.name, min))\n",
    "\n",
    "    def work(self, min):\n",
    "        print('{}, work {} minutes ahrdly'.format(self.name, min))\n",
    "      \n",
    "    \n",
    "class Student(Person):\n",
    "    def __init__(self, name, age):\n",
    "        self.name = name + str(age)\n",
    "        self.age = age\n",
    "\n",
    "class Employee(Person):\n",
    "    pass\n",
    "\n",
    "bob = Student('BobBob', 25)\n",
    "bob.eat('BBQ')\n",
    "bob.sleep(30)\n",
    "bob.work(60)\n"
   ]
  },
  {
   "cell_type": "markdown",
   "metadata": {},
   "source": [
    "#### **method override**\n",
    " - 부모 클래스의 method를 재정의(override)\n",
    " - 하위 클래스(자식 클래스) 의 인스턴스로 호출시, 재정의된 메소드가 호출됨"
   ]
  },
  {
   "cell_type": "code",
   "execution_count": 26,
   "metadata": {
    "pycharm": {
     "is_executing": false
    }
   },
   "outputs": [
    {
     "name": "stdout",
     "text": [
      "BobBob25, eat BBQ...now\n",
      "BobBob25, sleep 30 minutes on bed\n",
      "...BobBob25, Works 60 minutes on Office\n",
      "BobBob25, work 120 minutes ahrdly\n"
     ],
     "output_type": "stream"
    }
   ],
   "source": [
    "class Person:\n",
    "    def __init__(self, name, age):\n",
    "        self.name = name\n",
    "        self.age = age\n",
    "        \n",
    "    def eat(self, food):\n",
    "        print('{}, eat {}...now'.format(self.name, food))\n",
    "    \n",
    "    def sleep(self, min):\n",
    "        print('{}, sleep {} minutes on bed'.format(self.name, min))\n",
    "\n",
    "    def work(self, min):\n",
    "        print('{}, work {} minutes ahrdly'.format(self.name, min))\n",
    "      \n",
    "    \n",
    "class Student(Person):\n",
    "    def __init__(self, name, age):\n",
    "        self.name = name + str(age)\n",
    "        self.age = age\n",
    "        \n",
    "    def work(self, min):\n",
    "        super().work(min*3)\n",
    "        print('...{}, study {} minutes on library'.format(self.name, min))\n",
    "\n",
    "class Employee(Person):\n",
    "    def __init__(self, name, age):\n",
    "        self.name = name + str(age)\n",
    "        self.age = age\n",
    "        \n",
    "    def work(self, min):\n",
    "        print('...{}, Works {} minutes on Office'.format(self.name, min))\n",
    "        super().work(min*2)\n",
    "\n",
    "\n",
    "bob = Employee('BobBob', 25)\n",
    "bob.eat('BBQ')\n",
    "bob.sleep(30)\n",
    "bob.work(60)\n",
    "\n"
   ]
  },
  {
   "cell_type": "markdown",
   "metadata": {},
   "source": [
    "#### super \n",
    " - 하위클래스(자식 클래스)에서 부모클래스의 method를 호출할 때 사용"
   ]
  },
  {
   "cell_type": "code",
   "execution_count": null,
   "metadata": {},
   "outputs": [],
   "source": []
  },
  {
   "cell_type": "markdown",
   "metadata": {},
   "source": [
    "#### **self**\n",
    " - 파이썬의 method는 항상 첫번째 인자로 self를 전달\n",
    " - self는 현재 해당 메쏘드가 호출되는 객체 자신을 가리킴\n",
    " - C++/C#, Java의 this에 해당\n",
    " - 역시, 이름이 self일 필요는 없으나, 위치는 항상 맨 처음의 parameter이며 관례적으로 self로 사용"
   ]
  },
  {
   "cell_type": "code",
   "execution_count": null,
   "metadata": {},
   "outputs": [],
   "source": []
  },
  {
   "cell_type": "markdown",
   "metadata": {},
   "source": [
    "#### **method type**\n",
    " - instance method - 객체로 호출\n",
    "   - 메쏘드는 객체 레벨로 호출 되기 때문에, 해당 메쏘드를 호출한 객체에만 영향을 미침\n",
    " - class method    - class로 호출\n",
    "       - 클래스 메쏘드의 경우, 클래스 레벨로 호출되기 때문에, 클래스 멤버 변수만 변경 가능\n"
   ]
  },
  {
   "cell_type": "code",
   "execution_count": 72,
   "metadata": {
    "pycharm": {
     "is_executing": false
    }
   },
   "outputs": [
    {
     "name": "stdout",
     "text": [
      "(3.4)\n",
      "(2.7)\n",
      "(3.4) (2.7)\n",
      "(3, 4)\n",
      "(5.11)\n",
      "(1.-3)\n",
      "(9.12)\n",
      "(6.28)\n",
      "25\n",
      "25\n",
      "3\n",
      "4\n",
      "-1\n"
     ],
     "output_type": "stream"
    }
   ],
   "source": [
    "class Point():\n",
    "    def __init__(self,x,y):\n",
    "        self.x = x\n",
    "        self.y = y\n",
    "\n",
    "    def printPoint(self):\n",
    "        print('({}.{})'.format(self.x,self.y))\n",
    "    def __str__(self):\n",
    "        return('({}.{})'.format(self.x,self.y))\n",
    "    def getPoint(self):\n",
    "        return self.x,self.y\n",
    "    def add(self, pt):\n",
    "        nx = self.x + pt.x\n",
    "        ny = self.y + pt.y\n",
    "        return Point(nx,ny)\n",
    "    def multiply(self, pt):\n",
    "        nx = self.x * pt.x\n",
    "        ny = self.y * pt.y\n",
    "        return Point(nx,ny)\n",
    "#    def multiply(self, factor):\n",
    "#        return Point(self.x * factor, self.y * factor)\n",
    "    def __add__(self, factor):\n",
    "        nx = self.x + pt.x\n",
    "        ny = self.y + pt.y\n",
    "        return Point(nx,ny)\n",
    "    def __sub__(self, pt):\n",
    "        nx = self.x - pt.x\n",
    "        ny = self.y - pt.y\n",
    "        return Point(nx,ny)\n",
    "    def __mul__(self, factor):\n",
    "        return Point(self.x * factor, self.y * factor)\n",
    "#    def __mul__(self, pt):\n",
    "#        nx = self.x * pt.x\n",
    "#        ny = self.y * pt.y\n",
    "#       return Point(nx,ny)\n",
    "    def length(self):\n",
    "        return self.x **2 + self.y **2\n",
    "    def __len__(self):\n",
    "        return self.x **2 + self.y **2\n",
    "    def __getitem__(self, index):\n",
    "        if index == 0:\n",
    "            return self.x\n",
    "        elif index == 1:\n",
    "            return self.y\n",
    "        else:\n",
    "            return -1\n",
    "    \n",
    "p1 = Point(3,4)\n",
    "p2 = Point(2,7)\n",
    "p1.printPoint()\n",
    "p2.printPoint()\n",
    "print(p1, p2)\n",
    "print(p1.getPoint())\n",
    "#print('({},{})'.format(p1.getPoint()))\n",
    "#print(p1.getPoint())\n",
    "\n",
    "p3 = p1.add(p2)\n",
    "p3.printPoint()\n",
    "\n",
    "p4 = p1 - p2\n",
    "p4.printPoint()\n",
    "\n",
    "#p5 = p1 * p2\n",
    "#p5.printPoint()\n",
    "\n",
    "p6 = p1 * 3\n",
    "p6.printPoint()\n",
    "\n",
    "p55 = p1.multiply(p2)\n",
    "p55.printPoint()\n",
    "\n",
    "#p66 = p1.multiply(4)\n",
    "#p66.printPoint()\n",
    "\n",
    "print(p1.length())\n",
    "print(len(p1))\n",
    "\n",
    "print(p1[0])\n",
    "print(p1[1])\n",
    "print(p1[2])\n",
    "\n"
   ]
  },
  {
   "cell_type": "markdown",
   "metadata": {},
   "source": [
    "#### **special method**\n",
    " - __로 시작 __로 끝나는 특수 함수\n",
    " - 해당 메쏘드들을 구현하면, 커스텀 객체에 여러가지 파이썬 내장 함수나 연산자를 적용 가능\n",
    " - 오버라이딩 가능한 함수 목록은 아래 링크에서 참조 \n",
    "   - https://docs.python.org/3/reference/datamodel.html"
   ]
  },
  {
   "cell_type": "code",
   "execution_count": null,
   "metadata": {},
   "outputs": [],
   "source": []
  },
  {
   "cell_type": "markdown",
   "metadata": {},
   "source": [
    "#### 연습문제)\n",
    " - 복소수 클래스를 정의 해봅시다.\n",
    " - 덧셈, 뺄셈, 곱셈 연산자 지원\n",
    " - 길이 (복소수의 크기) 지원 \n",
    " - 복소수 출력 '1 + 4j'와 같이 표현\n",
    " - 비교 연산 ==, != 지원\n",
    " - >=, <= , <, > 연산 지원\n",
    " - 절대값 지원\n"
   ]
  },
  {
   "cell_type": "code",
   "execution_count": 23,
   "metadata": {
    "pycharm": {
     "is_executing": false
    }
   },
   "outputs": [
    {
     "name": "stdout",
     "text": [
      "1+2j\n",
      "4+7j\n",
      "4+6j\n",
      "-6-5j\n",
      "-------\n",
      "3+6j\n",
      "-7+11j\n",
      "True\n",
      "True\n",
      "-------\n",
      "2.23606797749979\n",
      "2\n"
     ],
     "output_type": "stream"
    }
   ],
   "source": [
    "import math\n",
    "class ComplexNumber:\n",
    "    def __init__(self, real, img):\n",
    "        self.real = real\n",
    "        self.img = img\n",
    "        \n",
    "    def __str__(self):\n",
    "        if self.img >=0:\n",
    "            return '{}+{}j'.format(self.real,self.img)\n",
    "        else:\n",
    "            return '{}-{}j'.format(self.real,abs(self.img))\n",
    "    def __add__(self, nc):\n",
    "        return ComplexNumber( self.real + nc.real, self.img + nc.img)\n",
    "    def __sub__(self, nc):\n",
    "        return ComplexNumber( self.real - nc.real, self.img - nc.img)\n",
    "    def __mul__(self, x):\n",
    "        if type(x) == int:\n",
    "            return ComplexNumber( self.real * x, self.img * x)\n",
    "        elif type(x) == ComplexNumber:\n",
    "            return ComplexNumber( self.real*x.real - self.img*x.img, self.real*x.img + self.img*x.real)\n",
    "    def __eq__(self,nc):\n",
    "        return self.real == nc.real and self.img == nc.img \n",
    "    def __ne__(self,nc):\n",
    "        return not(self.real == nc.real and self.img == nc.img) \n",
    "    def __abs__(self):\n",
    "        return math.sqrt(self.real ** 2 + self.img ** 2)\n",
    "    def __len__(self):\n",
    "        return int(math.sqrt(self.real ** 2 + self.img ** 2))\n",
    "\n",
    "a = ComplexNumber(1,2)\n",
    "b = ComplexNumber(3,5)\n",
    "print(a)\n",
    "print(a+b)\n",
    "print(a + ComplexNumber(3,4))\n",
    "print(a - ComplexNumber(7,7))\n",
    "\n",
    "print('-------')\n",
    "print(a*3)\n",
    "print(a*b)\n",
    "\n",
    "c = ComplexNumber(1,2)\n",
    "print(a==c)\n",
    "print(a!=b)\n",
    "print('-------')\n",
    "\n",
    "print(abs(a))\n",
    "print(len(a))\n",
    "\n"
   ]
  },
  {
   "cell_type": "code",
   "execution_count": null,
   "outputs": [],
   "source": [],
   "metadata": {
    "collapsed": false,
    "pycharm": {
     "name": "#%%\n"
    }
   }
  },
  {
   "cell_type": "code",
   "execution_count": 26,
   "outputs": [
    {
     "name": "stdout",
     "text": [
      "오늘 기온은 25.5도 입니\n"
     ],
     "output_type": "stream"
    }
   ],
   "source": [
    "b='오늘 기온은 25.5도 입니다'\n",
    "print(b[:-1])"
   ],
   "metadata": {
    "collapsed": false,
    "pycharm": {
     "name": "#%%\n",
     "is_executing": false
    }
   }
  },
  {
   "cell_type": "code",
   "execution_count": 28,
   "outputs": [
    {
     "name": "stdout",
     "text": [
      "2 1\n"
     ],
     "output_type": "stream"
    }
   ],
   "source": [
    "\n",
    "b = [1,2,3]\n",
    "1 in b\n",
    "\n",
    "\n",
    "c = 1\n",
    "d = 2\n",
    "c,d = d,c\n",
    "print(c,d)"
   ],
   "metadata": {
    "collapsed": false,
    "pycharm": {
     "name": "#%%\n",
     "is_executing": false
    }
   }
  },
  {
   "cell_type": "code",
   "execution_count": 40,
   "outputs": [
    {
     "name": "stdout",
     "text": [
      "<class 'list'>\n",
      "<class 'tuple'>\n",
      "<class 'set'>\n",
      "<class 'dict'>\n"
     ],
     "output_type": "stream"
    }
   ],
   "source": [
    "a=[1,2,3]\n",
    "b=(1,2,3)\n",
    "c={1,2,3}\n",
    "\n",
    "print(type(a))\n",
    "print(type(b))\n",
    "print(type(c))\n",
    "d={'a':1, 'b':1, 'c':2}\n",
    "print(type(d))\n"
   ],
   "metadata": {
    "collapsed": false,
    "pycharm": {
     "name": "#%%\n",
     "is_executing": false
    }
   }
  },
  {
   "cell_type": "code",
   "execution_count": 52,
   "outputs": [
    {
     "name": "stdout",
     "text": [
      "True\n",
      "1\n"
     ],
     "output_type": "stream"
    }
   ],
   "source": [
    "a={'a' : 3, 'b' : 2, 'c' : 1}\n",
    "print('b' in a)\n",
    "\n",
    "print(13%3)\n"
   ],
   "metadata": {
    "collapsed": false,
    "pycharm": {
     "name": "#%%\n",
     "is_executing": false
    }
   }
  }
 ],
 "metadata": {
  "kernelspec": {
   "display_name": "Python 3",
   "language": "python",
   "name": "python3"
  },
  "language_info": {
   "codemirror_mode": {
    "name": "ipython",
    "version": 3
   },
   "file_extension": ".py",
   "mimetype": "text/x-python",
   "name": "python",
   "nbconvert_exporter": "python",
   "pygments_lexer": "ipython3",
   "version": "3.6.5"
  },
  "pycharm": {
   "stem_cell": {
    "cell_type": "raw",
    "source": [],
    "metadata": {
     "collapsed": false
    }
   }
  }
 },
 "nbformat": 4,
 "nbformat_minor": 1
}