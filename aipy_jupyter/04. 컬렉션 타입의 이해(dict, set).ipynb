{
 "cells": [
  {
   "cell_type": "markdown",
   "metadata": {},
   "source": [
    "## 학습목표\n",
    " 1. dictionary, set에 대해 이해 및 실습\n"
   ]
  },
  {
   "cell_type": "markdown",
   "metadata": {},
   "source": [
    "### **dictionary**\n",
    " + 키와 값을 갖는 데이터 구조\n",
    " + 키는 내부적으로 hash값으로 저장\n",
    " + 순서를 따지지 않음. 즉, 인덱스가 없음"
   ]
  },
  {
   "cell_type": "code",
   "execution_count": null,
   "metadata": {},
   "outputs": [],
   "source": []
  },
  {
   "cell_type": "markdown",
   "metadata": {},
   "source": [
    "+ **항목 추가 및 변경**\n",
    " - 기존에 키가 존재 하면, 새로운 값으로 업데이트\n",
    " - 존재하지 않으면, 새로운 키, 값 생성"
   ]
  },
  {
   "cell_type": "code",
   "execution_count": null,
   "metadata": {},
   "outputs": [],
   "source": []
  },
  {
   "cell_type": "markdown",
   "metadata": {},
   "source": [
    "+ **update()**\n",
    " * 두 딕셔너리를 병합함\n",
    " * 겹치는 키가 있다면 parameter로 전달되는 키 값이 overwrite된다."
   ]
  },
  {
   "cell_type": "code",
   "execution_count": null,
   "metadata": {},
   "outputs": [],
   "source": []
  },
  {
   "cell_type": "markdown",
   "metadata": {},
   "source": [
    "* **key삭제**\n",
    " - del 키워드 사용"
   ]
  },
  {
   "cell_type": "code",
   "execution_count": null,
   "metadata": {},
   "outputs": [],
   "source": []
  },
  {
   "cell_type": "markdown",
   "metadata": {},
   "source": [
    "* **clear()**\n",
    " + 딕셔너리의 모든 값을 초기화\n"
   ]
  },
  {
   "cell_type": "code",
   "execution_count": null,
   "metadata": {},
   "outputs": [],
   "source": []
  },
  {
   "cell_type": "markdown",
   "metadata": {},
   "source": [
    "* **in**\n",
    " + key값 존재 확인\n",
    " + O(1) 연산 - 딕셔너리의 크기와 관계없이 항상 연산의 속도가 일정하다는 의미"
   ]
  },
  {
   "cell_type": "code",
   "execution_count": null,
   "metadata": {},
   "outputs": [],
   "source": []
  },
  {
   "cell_type": "markdown",
   "metadata": {},
   "source": [
    "* **value access**\n",
    " + dict[key]로 접급, 키가 없는 경우 에러 발생 \n",
    " + .get() 함수로 접근, 키가 없는 경우 None반환"
   ]
  },
  {
   "cell_type": "code",
   "execution_count": null,
   "metadata": {},
   "outputs": [],
   "source": []
  },
  {
   "cell_type": "markdown",
   "metadata": {},
   "source": [
    "#### **모든 keys, values 접근**\n",
    " + keys() - 키만 반환\n",
    " + values() - 값만 반환\n",
    " + items() - 키, 값의 튜플을 반환"
   ]
  },
  {
   "cell_type": "code",
   "execution_count": null,
   "metadata": {},
   "outputs": [],
   "source": []
  },
  {
   "cell_type": "markdown",
   "metadata": {},
   "source": [
    "### **set**\n",
    " + dictionary에서 key만 활용하는 데이터 구조로 이해\n",
    " + 수학에서의 집합과 동일한 개념"
   ]
  },
  {
   "cell_type": "code",
   "execution_count": null,
   "metadata": {},
   "outputs": [],
   "source": []
  },
  {
   "cell_type": "markdown",
   "metadata": {},
   "source": [
    "* **set()으로 집합으로 변환**"
   ]
  },
  {
   "cell_type": "code",
   "execution_count": null,
   "metadata": {},
   "outputs": [],
   "source": []
  },
  {
   "cell_type": "markdown",
   "metadata": {},
   "source": [
    "+ **set operations**\n",
    " - 수학 연산과 동일\n",
    " - 교집합, 합집합, 차집합 등 지원"
   ]
  },
  {
   "cell_type": "code",
   "execution_count": null,
   "metadata": {},
   "outputs": [],
   "source": []
  },
  {
   "cell_type": "markdown",
   "metadata": {},
   "source": [
    "### ch04. Collection - Dic, Set\n",
    "### Dic { } : many used well case\n",
    "- key-value, key base hashed store, no linear index, key is index of dictionary\n",
    "- new key add, exist key update value\n",
    "\n",
    "### Set { } : not used well, set is set in math, pure set\n",
    "- no ref-indexing, no dup, pure set"
   ]
  },
  {
   "cell_type": "code",
   "execution_count": 1,
   "metadata": {},
   "outputs": [
    {
     "name": "stdout",
     "output_type": "stream",
     "text": [
      "list a :  [0, 1, 2, 3, 4, 5]\n",
      "0 2\n",
      "dictionary b : {3: 111, 2: 11, 1: 1, 0: 0, 44: 1111}\n",
      "111\n",
      "{'korea': 'seoul', 'canada': 'ottawa', 'usa': 'wdc'}\n",
      "seoul\n",
      "{'korea': 'seoul', 'canada': 'ottawa', 'usa': 'wdc', 'japan': 'tokyo'}\n",
      "{'korea': 'busan', 'canada': 'ottawa', 'usa': 'wdc', 'japan': 'tokyo'}\n"
     ]
    }
   ],
   "source": [
    "a = [0,1,2,3,4,5]\n",
    "print('list a : ', a)\n",
    "print(a[0],a[2])\n",
    "\n",
    "b = {3:111, 2:11, 1:1, 0:0, 44:1111}\n",
    "print('dictionary b :',b)\n",
    "print(b[3])\n",
    "\n",
    "a = {'korea':'seoul', \n",
    "     'canada':'ottawa',\n",
    "     'usa':'wdc'}\n",
    "print(a)\n",
    "print(a['korea'])\n",
    "\n",
    "#\n",
    "a['japan'] = 'tokyo'\n",
    "print(a)\n",
    "\n",
    "a['korea'] = 'busan'\n",
    "print(a)"
   ]
  },
  {
   "cell_type": "markdown",
   "metadata": {},
   "source": [
    "### update()\n",
    "- merge two dictionary, same key overwirte with added key-value\n",
    "- pop method, del keyword\n",
    "\n",
    "### access dictionary\n",
    "- keys() 키만 반환\n",
    "- values() 값만 반환\n",
    "- items() kv의 tuple을 반환"
   ]
  },
  {
   "cell_type": "code",
   "execution_count": 2,
   "metadata": {},
   "outputs": [
    {
     "name": "stdout",
     "output_type": "stream",
     "text": [
      "{'a': 1, 'b': 2, 'c': 3} {'a': 33, 'd': 44, 'e': 55}\n",
      "{'a': 33, 'b': 2, 'c': 3, 'd': 44, 'e': 55} {'a': 33, 'd': 44, 'e': 55}\n",
      "{'a': 33, 'c': 3, 'd': 44, 'e': 55}\n",
      "{'a': 33, 'c': 3, 'e': 55}\n"
     ]
    }
   ],
   "source": [
    "a = {'a':1, 'b':2, 'c':3}\n",
    "b = {'a':33, 'd':44, 'e':55}\n",
    "print(a,b)\n",
    "a.update(b)\n",
    "print(a,b)\n",
    "\n",
    "# pop method\n",
    "a.pop('b')\n",
    "print(a)\n",
    "# del keyword\n",
    "del a['d']\n",
    "print(a)"
   ]
  },
  {
   "cell_type": "code",
   "execution_count": 3,
   "metadata": {},
   "outputs": [
    {
     "name": "stdout",
     "output_type": "stream",
     "text": [
      "{'a': 33, 'c': 3, 'e': 55}\n",
      "{}\n"
     ]
    }
   ],
   "source": [
    "print(a)\n",
    "a.clear()\n",
    "print(a)"
   ]
  },
  {
   "cell_type": "code",
   "execution_count": 4,
   "metadata": {},
   "outputs": [
    {
     "name": "stdout",
     "output_type": "stream",
     "text": [
      "b in a : True\n",
      "d in a : False\n",
      "2 in a : False\n",
      "100 in c : True > list get is serial linear search\n",
      "None > get method nonstop pgm\n",
      "if in check 'c':  3\n"
     ]
    }
   ],
   "source": [
    "a = {'a':1, 'b':2, 'c':3}\n",
    "c = [1,2,3,4,5,6,100]\n",
    "print('b in a :', 'b' in a)\n",
    "print('d in a :', 'd' in a)\n",
    "print('2 in a :', 2 in a)\n",
    "# list search is serial\n",
    "# dictionary key search is hash index\n",
    "print('100 in c :', 100 in c, '> list get is serial linear search')\n",
    "\n",
    "# get(), nonstop pgm\n",
    "print(a.get('d'), '> get method nonstop pgm')\n",
    "# indexing, stop pgm\n",
    "#print(a['d'])\n",
    "if 'c' in a :\n",
    "    print('if in check \\'c\\': ', a['c'])\n",
    "\n",
    "# 'd' in a : is Crash error"
   ]
  },
  {
   "cell_type": "code",
   "execution_count": 5,
   "metadata": {},
   "outputs": [
    {
     "name": "stdout",
     "output_type": "stream",
     "text": [
      "{'a': 1, 'b': 2, 'c': 3}\n",
      "dict_keys(['a', 'b', 'c'])\n",
      "dict_values([1, 2, 3])\n",
      "['a', 'b', 'c']\n",
      "[1, 2, 3]\n",
      "[('a', 1), ('b', 2), ('c', 3)]\n"
     ]
    }
   ],
   "source": [
    "print(a)\n",
    "print(a.keys())\n",
    "print(a.values())\n",
    "print(list(a.keys()))\n",
    "print(list(a.values()))\n",
    "print(list(a.items()))"
   ]
  },
  {
   "cell_type": "code",
   "execution_count": 6,
   "metadata": {},
   "outputs": [
    {
     "name": "stdout",
     "output_type": "stream",
     "text": [
      "{1, 2, 3, 4, 5}\n",
      "<class 'set'>\n",
      "[1, 2, 3, 4, 5] >> <class 'list'>\n",
      "1\n"
     ]
    }
   ],
   "source": [
    "a = { 1,1,2,3,3,4,1,5}\n",
    "print(a)\n",
    "# cannot indexing\n",
    "#print(a[0])\n",
    "b = set()\n",
    "print(type(b))\n",
    "\n",
    "c = list(a)\n",
    "print(c, '>>', type(c))\n",
    "print(c[0])\n"
   ]
  },
  {
   "cell_type": "code",
   "execution_count": 7,
   "metadata": {},
   "outputs": [
    {
     "name": "stdout",
     "output_type": "stream",
     "text": [
      "{1, 2, 3, 4}\n",
      "{1, 2, 3, 4}\n",
      "{2, 3}\n",
      "{1}\n",
      "False\n"
     ]
    }
   ],
   "source": [
    "a = {1,2,3}\n",
    "b = {2,3,4}\n",
    "print(a.union(b))\n",
    "print(b.union(a)) # 합집합\n",
    "print(a.intersection(b)) # 교집합\n",
    "print(a.difference(b)) # 차집합\n",
    "print(a.issubset(b)) # 부분집합"
   ]
  },
  {
   "cell_type": "code",
   "execution_count": null,
   "metadata": {},
   "outputs": [],
   "source": []
  }
 ],
 "metadata": {
  "kernelspec": {
   "display_name": "Python 3",
   "language": "python",
   "name": "python3"
  },
  "language_info": {
   "codemirror_mode": {
    "name": "ipython",
    "version": 3
   },
   "file_extension": ".py",
   "mimetype": "text/x-python",
   "name": "python",
   "nbconvert_exporter": "python",
   "pygments_lexer": "ipython3",
   "version": "3.8.3"
  }
 },
 "nbformat": 4,
 "nbformat_minor": 1
}
