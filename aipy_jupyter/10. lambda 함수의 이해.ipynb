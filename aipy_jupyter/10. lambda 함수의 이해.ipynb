{
 "cells": [
  {
   "cell_type": "markdown",
   "source": [
    "\n",
    "\n",
    "### 학습목표\n",
    " 2. Lambda 함수 이해 및 사용"
   ],
   "metadata": {
    "collapsed": false
   }
  },
  {
   "cell_type": "markdown",
   "metadata": {},
   "source": [
    "* **Lambda 함수**\n",
    " + 단일문으로 표현되는 익명함수 (AWS의 lambda가 아니다.)\n",
    " + 익명함수란 이름이 없는 구현체만 존재하는 간단한 함수를 의미\n",
    " + 코드 상에서 한번만 사용되는 기능이 있을 때, 굳이 함수로 만들지 않고 1회성으로 만들어서 쓸 때 사용."
   ]
  },
  {
   "cell_type": "code",
   "execution_count": 5,
   "metadata": {
    "ExecuteTime": {
     "end_time": "2024-01-28T07:05:22.729983Z",
     "start_time": "2024-01-28T07:05:22.727813Z"
    }
   },
   "outputs": [
    {
     "name": "stdout",
     "output_type": "stream",
     "text": [
      "Hello: <class 'function'> 25\n",
      "<class 'function'> 25\n",
      "5\n"
     ]
    }
   ],
   "source": [
    "sq = lambda fx:fx**2\n",
    "print(\"Hello:\", type(sq), sq(5))\n",
    "\n",
    "def sq2(fx):\n",
    "    return fx**2\n",
    "print(type(sq2), sq2(5))\n",
    "\n",
    "fxp = lambda x,y:x+y\n",
    "print(fxp(2,3))\n",
    "    "
   ]
  },
  {
   "cell_type": "code",
   "execution_count": 6,
   "metadata": {
    "ExecuteTime": {
     "end_time": "2024-01-28T07:05:25.898406Z",
     "start_time": "2024-01-28T07:05:25.891897Z"
    }
   },
   "outputs": [
    {
     "name": "stdout",
     "output_type": "stream",
     "text": [
      "['nicky mountine', 'joesy', 'jenny', 'bob']\n",
      "8\n",
      "['bob', 'joesy', 'jenny', 'nicky mountine']\n",
      "['bob', 'joesy', 'jenny', 'nicky mountine']\n"
     ]
    }
   ],
   "source": [
    "str = ['bob', 'joesy', 'jenny', 'nicky mountine']\n",
    "str.sort(reverse=True)\n",
    "print(str)\n",
    "\n",
    "def strlen(s):\n",
    "    return len(s)\n",
    "print(strlen('goodgood'))\n",
    "\n",
    "str.sort(key=strlen)\n",
    "print(str)\n",
    "\n",
    "str.sort(key=lambda x:len(x))\n",
    "print(str)"
   ]
  },
  {
   "cell_type": "markdown",
   "metadata": {},
   "source": [
    "#### **filter, map, reduce**  << use case models\n",
    " + lambda가 유용하게 사용되는 3가지 대표적 함수\n",
    " + 함수형 프로그래밍의 기본 요소이기도 함\n",
    " + filter : 특정 조건을 만족하는 요소만 남기고 필터링 >> filter(function, list)\n",
    " + map    : 각 원소를 주어진 수식에 따라 변형하여 새로운 리스트를 반환\n",
    " + reduce : 차례대로 앞 2개의 원소를 가지고 연산. 연산의 결과가 또 다음 연산의 입력으로 진행됨. 따라서 마지막까지 진행되면 최종 출력은 한개의 값만 남게 됨"
   ]
  },
  {
   "cell_type": "code",
   "execution_count": 46,
   "metadata": {},
   "outputs": [
    {
     "name": "stdout",
     "output_type": "stream",
     "text": [
      "True\n",
      "[2, 4, 6, 8, 12, 14]\n",
      "[2, 4, 6, 8, 12, 14]\n"
     ]
    }
   ],
   "source": [
    "# filter case: remove False item in list with function\n",
    "num = [1,2,3,4,5,6,7,8,11,12,13,14]\n",
    "\n",
    "def evenld(n): # TF\n",
    "    return n % 2 == 0\n",
    "print(evenld(4))\n",
    "\n",
    "print(list(filter(evenld,num)))\n",
    "print(list(filter(lambda x:x%2==0, num)))"
   ]
  },
  {
   "cell_type": "code",
   "execution_count": 61,
   "metadata": {},
   "outputs": [
    {
     "name": "stdout",
     "output_type": "stream",
     "text": [
      "[1, 4, 9, 16, 25, 36, 49, 64, 121, 144, 169, 196]\n",
      "[False, True, False, True, False, True, False, True, False, True, False, True]\n"
     ]
    }
   ],
   "source": [
    "# map case: remap item in list with function\n",
    "num = [1,2,3,4,5,6,7,8,11,12,13,14]\n",
    "\n",
    "print(list(map(lambda x:x**2, num)))\n",
    "print(list(map(evenld, num)))\n",
    "\n"
   ]
  },
  {
   "cell_type": "code",
   "execution_count": 97,
   "metadata": {},
   "outputs": [
    {
     "name": "stdout",
     "output_type": "stream",
     "text": [
      "86\n",
      "1212ABC\n",
      "1211\n",
      "1127\n",
      "1234567811121314\n"
     ]
    }
   ],
   "source": [
    "import functools\n",
    "\n",
    "functools.reduce\n",
    "\n",
    "\n",
    "# reduce case: \n",
    "num = [1,2,3,4,5,6,7,8,11,12,13,14]\n",
    "\n",
    "print( functools.reduce(lambda x,y:x+y, num))\n",
    "\n",
    "nn = 12.34\n",
    "sss = \"%d%d\" % (nn, nn)\n",
    "print(sss + \"ABC\")\n",
    "print( int(sss) -1)\n",
    "\n",
    "def xr(x,y):\n",
    "    return int( \"%d%d\" % (x,y) )\n",
    "print( xr(11,22) +5)\n",
    "\n",
    "print( functools.reduce( lambda x,y: int( \"%d%d\"%(x,y) ), num))\n"
   ]
  },
  {
   "cell_type": "markdown",
   "metadata": {},
   "source": [
    "\n",
    "#### 함수 연습문제\n",
    " 1. 주어진 숫자 리스트의 평균을 구하는 함수를 출력하시오\n",
    " 1. 해당 숫자가 소수인지 아닌지 판별하시오.\n",
    " 2. 2부터 해당 숫자사이에 소수가 몇개인지 출력하는 함수를 구하시오 "
   ]
  },
  {
   "cell_type": "code",
   "execution_count": 101,
   "metadata": {},
   "outputs": [
    {
     "name": "stdout",
     "output_type": "stream",
     "text": [
      "5.0\n"
     ]
    }
   ],
   "source": [
    "aa = [1,2,3,4,5,6,7,8,9]\n",
    "def avr(nums):\n",
    "    summ=0\n",
    "    for i in nums:\n",
    "        summ += i\n",
    "    return summ / len(nums)\n",
    "\n",
    "print(avr(aa))\n"
   ]
  },
  {
   "cell_type": "code",
   "execution_count": 1,
   "metadata": {
    "pycharm": {
     "is_executing": false
    }
   },
   "outputs": [
    {
     "name": "stdout",
     "text": [
      "False\n",
      "True\n"
     ],
     "output_type": "stream"
    }
   ],
   "source": [
    "def isprime(x):\n",
    "    i = 2\n",
    "    while (i<x):\n",
    "        if x % i == 0:\n",
    "            return False\n",
    "        i +=1\n",
    "    return True\n",
    "\n",
    "def isprime2(x):\n",
    "    for i in range(2,x):\n",
    "        if x % i == 0:\n",
    "            return False\n",
    "    return True\n",
    "\n",
    "print(isprime(9))\n",
    "print(isprime2(7))"
   ]
  },
  {
   "cell_type": "code",
   "execution_count": 6,
   "metadata": {
    "pycharm": {
     "is_executing": false
    }
   },
   "outputs": [
    {
     "name": "stdout",
     "text": [
      "25\n"
     ],
     "output_type": "stream"
    }
   ],
   "source": [
    "def countprime(x):\n",
    "    count = 0\n",
    "    for i in range(2,x+1):\n",
    "        if isprime2(i):\n",
    "            count += 1\n",
    "    return count\n",
    "\n",
    "print(countprime(100))"
   ]
  },
  {
   "cell_type": "code",
   "execution_count": null,
   "metadata": {},
   "outputs": [],
   "source": []
  }
 ],
 "metadata": {
  "kernelspec": {
   "display_name": "Python 3",
   "language": "python",
   "name": "python3"
  },
  "language_info": {
   "codemirror_mode": {
    "name": "ipython",
    "version": 3
   },
   "file_extension": ".py",
   "mimetype": "text/x-python",
   "name": "python",
   "nbconvert_exporter": "python",
   "pygments_lexer": "ipython3",
   "version": "3.8.3"
  },
  "pycharm": {
   "stem_cell": {
    "cell_type": "raw",
    "source": [],
    "metadata": {
     "collapsed": false
    }
   }
  }
 },
 "nbformat": 4,
 "nbformat_minor": 1
}
